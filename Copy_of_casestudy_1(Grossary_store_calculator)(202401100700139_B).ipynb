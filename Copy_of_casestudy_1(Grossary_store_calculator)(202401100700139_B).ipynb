{
  "nbformat": 4,
  "nbformat_minor": 0,
  "metadata": {
    "colab": {
      "provenance": [],
      "authorship_tag": "ABX9TyNdsA8VMimNLRTareT6kzdB",
      "include_colab_link": true
    },
    "kernelspec": {
      "name": "python3",
      "display_name": "Python 3"
    },
    "language_info": {
      "name": "python"
    }
  },
  "cells": [
    {
      "cell_type": "markdown",
      "metadata": {
        "id": "view-in-github",
        "colab_type": "text"
      },
      "source": [
        "<a href=\"https://colab.research.google.com/github/Priyanshu20240/GROCERY_STORE/blob/main/Copy_of_casestudy_1(Grossary_store_calculator)(202401100700139_B).ipynb\" target=\"_parent\"><img src=\"https://colab.research.google.com/assets/colab-badge.svg\" alt=\"Open In Colab\"/></a>"
      ]
    },
    {
      "cell_type": "markdown",
      "source": [
        "## Grossary store calculator"
      ],
      "metadata": {
        "id": "18XfdNeXSFsn"
      }
    },
    {
      "cell_type": "code",
      "source": [
        "print(\"Welcome\")\n",
        "\n",
        "print(\"0. END\")\n",
        "print(\"1. MILK\")\n",
        "print(\"2. BREAD\")\n",
        "print(\"3. SHAMPOO\")\n",
        "print(\"4. SOUP\")\n",
        "print(\"5. FRUIT\")\n",
        "print(\"6. RICE\")\n",
        "print(\"7. WHEAT\")\n",
        "print(\"8. MAGGI\")\n",
        "\n",
        "total_bill = 0\n",
        "for i in range(100):\n",
        "\n",
        "  print(\"What do you want\")\n",
        "  a = int(input())\n",
        "  if (a==0):\n",
        "    print(\"Thank you for shopping \")\n",
        "    break;\n",
        "  elif (a == 1):\n",
        "    print(\"how much litre are you want?\")\n",
        "    b = int(input())\n",
        "    total_bill = total_bill + b*50\n",
        "    continue;\n",
        "  elif (a == 2):\n",
        "    print(\"how much packet are you want?\")\n",
        "    b = int(input())\n",
        "    total_bill = total_bill + b*30\n",
        "    continue;\n",
        "  elif (a == 3):\n",
        "    print(\"how many shampoo are you want/\")\n",
        "    b = int(input())\n",
        "    total_bill = total_bill + b*2\n",
        "    continue;\n",
        "  elif (a == 4):\n",
        "    print(\"how many soup are you want?\")\n",
        "    b = int(input())\n",
        "    total_bill = total_bill + b*10\n",
        "    continue;\n",
        "  elif (a == 6):\n",
        "    print(\"how much rice are you want\")\n",
        "    b = int(input())\n",
        "    total_bill = total_bill + b*55\n",
        "    continue;\n",
        "  elif (a == 7):\n",
        "    print(\"how much wheat are you want\")\n",
        "    b = int(input())\n",
        "    total_bill = total_bill + b*45\n",
        "    continue;\n",
        "  elif (a == 8):\n",
        "    print(\"how much packet are you want\")\n",
        "    b = int(input())\n",
        "    total_bill = total_bill + b*10\n",
        "    continue;\n",
        "  elif(a==5) :\n",
        "    print(\"what fruit do you want \")\n",
        "    print(\"1. Banana\")\n",
        "    print(\"2. Apple\")\n",
        "    print(\"3. Graapes\")\n",
        "    print(\"4. Mango\")\n",
        "    b= int(input())\n",
        "    if(b==1):\n",
        "      print(\"how much banana are you want\")\n",
        "      c = int(input())\n",
        "      total_bill = total_bill + c*5\n",
        "      continue;\n",
        "    elif(b==2):\n",
        "      print(\"how much apple are you want\")\n",
        "      c = int(input())\n",
        "      total_bill = total_bill + c*10\n",
        "      continue;\n",
        "    elif(b==3):\n",
        "      print(\"how much graapes are you want\")\n",
        "      c = int(input())\n",
        "      total_bill = total_bill + c*15\n",
        "      continue;\n",
        "    elif(b==4):\n",
        "      print(\"how much mango are you want\")\n",
        "      c = int(input())\n",
        "      total_bill = total_bill + c*20\n",
        "      continue;\n",
        "    else:\n",
        "      print(\"Invalid Input\")\n",
        "      continue;\n",
        "  else:\n",
        "    print(\"Invalid Input\")\n",
        "    continue;\n",
        "\n",
        "\n",
        "\n",
        "if(total_bill == 0):\n",
        "  print(\"you didn't buy anything\")\n",
        "else:\n",
        "  print(\"Your total bill is \",total_bill,\"Rs\")\n"
      ],
      "metadata": {
        "id": "Zt9S72YCSLe2",
        "collapsed": true
      },
      "execution_count": null,
      "outputs": []
    }
  ]
}