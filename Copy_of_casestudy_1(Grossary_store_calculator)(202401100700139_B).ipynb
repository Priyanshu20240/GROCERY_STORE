{
  "nbformat": 4,
  "nbformat_minor": 0,
  "metadata": {
    "colab": {
      "provenance": [],
      "authorship_tag": "ABX9TyNdsA8VMimNLRTareT6kzdB",
      "include_colab_link": true
    },
    "kernelspec": {
      "name": "python3",
      "display_name": "Python 3"
    },
    "language_info": {
      "name": "python"
    }
  },
  "cells": [
    {
      "cell_type": "markdown",
      "metadata": {
        "id": "view-in-github",
        "colab_type": "text"
      },
      "source": [
        "<a href=\"https://colab.research.google.com/github/Priyanshu20240/GROCERY_STORE/blob/main/Copy_of_casestudy_1(Grossary_store_calculator)(202401100700139_B).ipynb\" target=\"_parent\"><img src=\"https://colab.research.google.com/assets/colab-badge.svg\" alt=\"Open In Colab\"/></a>"
      ]
    },
    {
      "cell_type": "markdown",
      "source": [
        "## Grossary store calculator"
      ],
      "metadata": {
        "id": "18XfdNeXSFsn"
      }
    },
    {
      "cell_type": "code",
      "source": [
        "print(\"Welcome\")\n",
        "\n",
        "print(\"0. END\")\n",
        "print(\"1. MILK\")\n",
        "print(\"2. BREAD\")\n",
        "print(\"3. SHAMPOO\")\n",
        "print(\"4. SOUP\")\n",
        "print(\"5. FRUIT\")\n",
        "print(\"6. RICE\")\n",
        "print(\"7. WHEAT\")\n",
        "print(\"8. MAGGI\")\n",
        "\n",
        "total_bill = 0\n",
        "for i in range(100):\n",
        "\n",
        "  print(\"What do you want\")\n",
        "  a = int(input())\n",
        "  if (a==0):\n",
        "    print(\"Thank you for shopping \")\n",
        "    break;\n",
        "  elif (a == 1):\n",
        "    print(\"how much litre are you want?\")\n",
        "    b = int(input())\n",
        "    total_bill = total_bill + b*50\n",
        "    continue;\n",
        "  elif (a == 2):\n",
        "    print(\"how much packet are you want?\")\n",
        "    b = int(input())\n",
        "    total_bill = total_bill + b*30\n",
        "    continue;\n",
        "  elif (a == 3):\n",
        "    print(\"how many shampoo are you want/\")\n",
        "    b = int(input())\n",
        "    total_bill = total_bill + b*2\n",
        "    continue;\n",
        "  elif (a == 4):\n",
        "    print(\"how many soup are you want?\")\n",
        "    b = int(input())\n",
        "    total_bill = total_bill + b*10\n",
        "    continue;\n",
        "  elif (a == 6):\n",
        "    print(\"how much rice are you want\")\n",
        "    b = int(input())\n",
        "    total_bill = total_bill + b*55\n",
        "    continue;\n",
        "  elif (a == 7):\n",
        "    print(\"how much wheat are you want\")\n",
        "    b = int(input())\n",
        "    total_bill = total_bill + b*45\n",
        "    continue;\n",
        "  elif (a == 8):\n",
        "    print(\"how much packet are you want\")\n",
        "    b = int(input())\n",
        "    total_bill = total_bill + b*10\n",
        "    continue;\n",
        "  elif(a==5) :\n",
        "    print(\"what fruit do you want \")\n",
        "    print(\"1. Banana\")\n",
        "    print(\"2. Apple\")\n",
        "    print(\"3. Graapes\")\n",
        "    print(\"4. Mango\")\n",
        "    b= int(input())\n",
        "    if(b==1):\n",
        "      print(\"how much banana are you want\")\n",
        "      c = int(input())\n",
        "      total_bill = total_bill + c*5\n",
        "      continue;\n",
        "    elif(b==2):\n",
        "      print(\"how much apple are you want\")\n",
        "      c = int(input())\n",
        "      total_bill = total_bill + c*10\n",
        "      continue;\n",
        "    elif(b==3):\n",
        "      print(\"how much graapes are you want\")\n",
        "      c = int(input())\n",
        "      total_bill = total_bill + c*15\n",
        "      continue;\n",
        "    elif(b==4):\n",
        "      print(\"how much mango are you want\")\n",
        "      c = int(input())\n",
        "      total_bill = total_bill + c*20\n",
        "      continue;\n",
        "    else:\n",
        "      print(\"Invalid Input\")\n",
        "      continue;\n",
        "  else:\n",
        "    print(\"Invalid Input\")\n",
        "    continue;\n",
        "\n",
        "\n",
        "\n",
        "if(total_bill == 0):\n",
        "  print(\"you didn't buy anything\")\n",
        "else:\n",
        "  print(\"Your total bill is \",total_bill,\"Rs\")\n"
      ],
      "metadata": {
        "colab": {
          "base_uri": "https://localhost:8080/",
          "height": 568
        },
        "id": "Zt9S72YCSLe2",
        "outputId": "dc077d26-dd70-4416-cd0d-e8cc652d814c",
        "collapsed": true
      },
      "execution_count": 1,
      "outputs": [
        {
          "metadata": {
            "tags": null
          },
          "name": "stdout",
          "output_type": "stream",
          "text": [
            "Welcome\n",
            "0. END\n",
            "1. MILK\n",
            "2. BREAD\n",
            "3. SHAMPOO\n",
            "4. SOUP\n",
            "5. FRUIT\n",
            "6. RICE\n",
            "7. WHEAT\n",
            "8. MAGGI\n",
            "What do you want\n"
          ]
        },
        {
          "output_type": "error",
          "ename": "KeyboardInterrupt",
          "evalue": "Interrupted by user",
          "traceback": [
            "\u001b[0;31m---------------------------------------------------------------------------\u001b[0m",
            "\u001b[0;31mKeyboardInterrupt\u001b[0m                         Traceback (most recent call last)",
            "\u001b[0;32m<ipython-input-1-6c6a865624d8>\u001b[0m in \u001b[0;36m<cell line: 0>\u001b[0;34m()\u001b[0m\n\u001b[1;32m     15\u001b[0m \u001b[0;34m\u001b[0m\u001b[0m\n\u001b[1;32m     16\u001b[0m   \u001b[0mprint\u001b[0m\u001b[0;34m(\u001b[0m\u001b[0;34m\"What do you want\"\u001b[0m\u001b[0;34m)\u001b[0m\u001b[0;34m\u001b[0m\u001b[0;34m\u001b[0m\u001b[0m\n\u001b[0;32m---> 17\u001b[0;31m   \u001b[0ma\u001b[0m \u001b[0;34m=\u001b[0m \u001b[0mint\u001b[0m\u001b[0;34m(\u001b[0m\u001b[0minput\u001b[0m\u001b[0;34m(\u001b[0m\u001b[0;34m)\u001b[0m\u001b[0;34m)\u001b[0m\u001b[0;34m\u001b[0m\u001b[0;34m\u001b[0m\u001b[0m\n\u001b[0m\u001b[1;32m     18\u001b[0m   \u001b[0;32mif\u001b[0m \u001b[0;34m(\u001b[0m\u001b[0ma\u001b[0m\u001b[0;34m==\u001b[0m\u001b[0;36m0\u001b[0m\u001b[0;34m)\u001b[0m\u001b[0;34m:\u001b[0m\u001b[0;34m\u001b[0m\u001b[0;34m\u001b[0m\u001b[0m\n\u001b[1;32m     19\u001b[0m     \u001b[0mprint\u001b[0m\u001b[0;34m(\u001b[0m\u001b[0;34m\"Thank you for shopping \"\u001b[0m\u001b[0;34m)\u001b[0m\u001b[0;34m\u001b[0m\u001b[0;34m\u001b[0m\u001b[0m\n",
            "\u001b[0;32m/usr/local/lib/python3.11/dist-packages/ipykernel/kernelbase.py\u001b[0m in \u001b[0;36mraw_input\u001b[0;34m(self, prompt)\u001b[0m\n\u001b[1;32m    849\u001b[0m                 \u001b[0;34m\"raw_input was called, but this frontend does not support input requests.\"\u001b[0m\u001b[0;34m\u001b[0m\u001b[0;34m\u001b[0m\u001b[0m\n\u001b[1;32m    850\u001b[0m             )\n\u001b[0;32m--> 851\u001b[0;31m         return self._input_request(str(prompt),\n\u001b[0m\u001b[1;32m    852\u001b[0m             \u001b[0mself\u001b[0m\u001b[0;34m.\u001b[0m\u001b[0m_parent_ident\u001b[0m\u001b[0;34m,\u001b[0m\u001b[0;34m\u001b[0m\u001b[0;34m\u001b[0m\u001b[0m\n\u001b[1;32m    853\u001b[0m             \u001b[0mself\u001b[0m\u001b[0;34m.\u001b[0m\u001b[0m_parent_header\u001b[0m\u001b[0;34m,\u001b[0m\u001b[0;34m\u001b[0m\u001b[0;34m\u001b[0m\u001b[0m\n",
            "\u001b[0;32m/usr/local/lib/python3.11/dist-packages/ipykernel/kernelbase.py\u001b[0m in \u001b[0;36m_input_request\u001b[0;34m(self, prompt, ident, parent, password)\u001b[0m\n\u001b[1;32m    893\u001b[0m             \u001b[0;32mexcept\u001b[0m \u001b[0mKeyboardInterrupt\u001b[0m\u001b[0;34m:\u001b[0m\u001b[0;34m\u001b[0m\u001b[0;34m\u001b[0m\u001b[0m\n\u001b[1;32m    894\u001b[0m                 \u001b[0;31m# re-raise KeyboardInterrupt, to truncate traceback\u001b[0m\u001b[0;34m\u001b[0m\u001b[0;34m\u001b[0m\u001b[0m\n\u001b[0;32m--> 895\u001b[0;31m                 \u001b[0;32mraise\u001b[0m \u001b[0mKeyboardInterrupt\u001b[0m\u001b[0;34m(\u001b[0m\u001b[0;34m\"Interrupted by user\"\u001b[0m\u001b[0;34m)\u001b[0m \u001b[0;32mfrom\u001b[0m \u001b[0;32mNone\u001b[0m\u001b[0;34m\u001b[0m\u001b[0;34m\u001b[0m\u001b[0m\n\u001b[0m\u001b[1;32m    896\u001b[0m             \u001b[0;32mexcept\u001b[0m \u001b[0mException\u001b[0m \u001b[0;32mas\u001b[0m \u001b[0me\u001b[0m\u001b[0;34m:\u001b[0m\u001b[0;34m\u001b[0m\u001b[0;34m\u001b[0m\u001b[0m\n\u001b[1;32m    897\u001b[0m                 \u001b[0mself\u001b[0m\u001b[0;34m.\u001b[0m\u001b[0mlog\u001b[0m\u001b[0;34m.\u001b[0m\u001b[0mwarning\u001b[0m\u001b[0;34m(\u001b[0m\u001b[0;34m\"Invalid Message:\"\u001b[0m\u001b[0;34m,\u001b[0m \u001b[0mexc_info\u001b[0m\u001b[0;34m=\u001b[0m\u001b[0;32mTrue\u001b[0m\u001b[0;34m)\u001b[0m\u001b[0;34m\u001b[0m\u001b[0;34m\u001b[0m\u001b[0m\n",
            "\u001b[0;31mKeyboardInterrupt\u001b[0m: Interrupted by user"
          ]
        }
      ]
    }
  ]
}