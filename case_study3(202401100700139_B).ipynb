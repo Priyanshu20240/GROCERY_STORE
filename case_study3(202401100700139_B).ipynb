{
  "nbformat": 4,
  "nbformat_minor": 0,
  "metadata": {
    "colab": {
      "provenance": [],
      "authorship_tag": "ABX9TyN/F9DPqUvRRP7QSeABS+fB",
      "include_colab_link": true
    },
    "kernelspec": {
      "name": "python3",
      "display_name": "Python 3"
    },
    "language_info": {
      "name": "python"
    }
  },
  "cells": [
    {
      "cell_type": "markdown",
      "metadata": {
        "id": "view-in-github",
        "colab_type": "text"
      },
      "source": [
        "<a href=\"https://colab.research.google.com/github/Priyanshu20240/GROCERY_STORE/blob/main/case_study3(202401100700139_B).ipynb\" target=\"_parent\"><img src=\"https://colab.research.google.com/assets/colab-badge.svg\" alt=\"Open In Colab\"/></a>"
      ]
    },
    {
      "cell_type": "code",
      "execution_count": 5,
      "metadata": {
        "colab": {
          "base_uri": "https://localhost:8080/",
          "height": 0
        },
        "id": "AaphnErjfweU",
        "outputId": "41973bf6-5007-4278-f3ff-7dabb9b47e97"
      },
      "outputs": [
        {
          "output_type": "stream",
          "name": "stdout",
          "text": [
            "Current Temperature: 23.9°C\n",
            "Current Temperature: 20.3°C\n",
            "Current Temperature: 21.0°C\n",
            "Current Temperature: 22.5°C\n",
            "Current Temperature: 20.5°C\n",
            "Current Temperature: 22.7°C\n",
            "Current Temperature: 21.7°C\n",
            "Current Temperature: 20.2°C\n",
            "Current Temperature: 26.9°C\n",
            "Current Temperature: 21.5°C\n",
            "Current Temperature: 22.1°C\n",
            "Current Temperature: 27.5°C\n",
            "Current Temperature: 21.7°C\n",
            "Current Temperature: 29.3°C\n",
            "Current Temperature: 20.1°C\n",
            "Current Temperature: 26.6°C\n",
            "Current Temperature: 28.2°C\n",
            "Current Temperature: 28.9°C\n",
            "Current Temperature: 21.1°C\n",
            "Current Temperature: 20.7°C\n",
            "Current Temperature: 28.4°C\n",
            "Current Temperature: 22.2°C\n",
            "Current Temperature: 28.9°C\n",
            "Current Temperature: 23.9°C\n",
            "Current Temperature: 25.5°C\n",
            "Current Temperature: 23.1°C\n",
            "Current Temperature: 27.9°C\n",
            "Current Temperature: 26.1°C\n",
            "Current Temperature: 25.1°C\n",
            "Current Temperature: 23.4°C\n",
            "Current Temperature: 22.7°C\n",
            "Current Temperature: 25.2°C\n",
            "Current Temperature: 23.5°C\n",
            "Current Temperature: 24.5°C\n",
            "Current Temperature: 24.6°C\n",
            "Current Temperature: 26.8°C\n",
            "Current Temperature: 21.2°C\n",
            "Current Temperature: 21.9°C\n",
            "Current Temperature: 25.6°C\n",
            "Current Temperature: 29.2°C\n",
            "Current Temperature: 22.8°C\n",
            "Current Temperature: 24.7°C\n",
            "Current Temperature: 20.8°C\n",
            "Current Temperature: 29.6°C\n",
            "Current Temperature: 28.3°C\n",
            "Temperature monitoring stopped.\n"
          ]
        }
      ],
      "source": [
        "\n",
        "\n",
        "import time\n",
        "import random\n",
        "\n",
        "def get_temperature():\n",
        "\n",
        "  return round(random.uniform(20, 30), 1)\n",
        "\n",
        "def monitor_temperature():\n",
        "\n",
        "  while True:\n",
        "    temperature = get_temperature()\n",
        "    print(f\"Current Temperature: {temperature}°C\")\n",
        "    time.sleep(5)\n",
        "\n",
        "if __name__ == \"__main__\":\n",
        "  try:\n",
        "    monitor_temperature()\n",
        "  except KeyboardInterrupt:\n",
        "    print(\"Temperature monitoring stopped.\")\n"
      ]
    }
  ]
}